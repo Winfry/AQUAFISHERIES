{
 "cells": [
  {
   "cell_type": "code",
   "execution_count": null,
   "metadata": {},
   "outputs": [],
   "source": []
  },
  {
   "cell_type": "markdown",
   "metadata": {},
   "source": []
  },
  {
   "cell_type": "code",
   "execution_count": 1,
   "metadata": {},
   "outputs": [],
   "source": [
    "#Import libraries\n",
    "import numpy as np\n",
    "import pandas as pd\n",
    "from sklearn import model_selection\n",
    "\n",
    "\n"
   ]
  },
  {
   "cell_type": "markdown",
   "metadata": {},
   "source": [
    "# Importing Dataset"
   ]
  },
  {
   "cell_type": "code",
   "execution_count": 7,
   "metadata": {},
   "outputs": [
    {
     "name": "stdout",
     "output_type": "stream",
     "text": [
      "    ph  temperature  turbidity   fish\n",
      "0  6.0         27.0        4.0  katla\n",
      "1  7.6         28.0        5.9   sing\n",
      "2  7.8         27.0        5.5   sing\n",
      "3  6.5         31.0        5.5  katla\n",
      "4  8.2         27.0        8.5  prawn\n",
      "Shape of Dataset:  (591, 4)\n"
     ]
    }
   ],
   "source": [
    "df = pd.read_csv('fishdatset.csv')\n",
    "print(df.head(5))\n",
    "print(\"Shape of Dataset: \", df.shape)\n",
    "\n"
   ]
  },
  {
   "cell_type": "code",
   "execution_count": 8,
   "metadata": {},
   "outputs": [
    {
     "name": "stdout",
     "output_type": "stream",
     "text": [
      "<class 'pandas.core.frame.DataFrame'>\n",
      "RangeIndex: 591 entries, 0 to 590\n",
      "Data columns (total 4 columns):\n",
      " #   Column       Non-Null Count  Dtype  \n",
      "---  ------       --------------  -----  \n",
      " 0   ph           591 non-null    float64\n",
      " 1   temperature  591 non-null    float64\n",
      " 2   turbidity    591 non-null    float64\n",
      " 3   fish         591 non-null    object \n",
      "dtypes: float64(3), object(1)\n",
      "memory usage: 18.6+ KB\n"
     ]
    }
   ],
   "source": [
    "df.info()"
   ]
  },
  {
   "cell_type": "code",
   "execution_count": 9,
   "metadata": {},
   "outputs": [
    {
     "data": {
      "text/html": [
       "<div>\n",
       "<style scoped>\n",
       "    .dataframe tbody tr th:only-of-type {\n",
       "        vertical-align: middle;\n",
       "    }\n",
       "\n",
       "    .dataframe tbody tr th {\n",
       "        vertical-align: top;\n",
       "    }\n",
       "\n",
       "    .dataframe thead th {\n",
       "        text-align: right;\n",
       "    }\n",
       "</style>\n",
       "<table border=\"1\" class=\"dataframe\">\n",
       "  <thead>\n",
       "    <tr style=\"text-align: right;\">\n",
       "      <th></th>\n",
       "      <th>count</th>\n",
       "      <th>mean</th>\n",
       "      <th>std</th>\n",
       "      <th>min</th>\n",
       "      <th>25%</th>\n",
       "      <th>50%</th>\n",
       "      <th>75%</th>\n",
       "      <th>max</th>\n",
       "    </tr>\n",
       "  </thead>\n",
       "  <tbody>\n",
       "    <tr>\n",
       "      <th>ph</th>\n",
       "      <td>591.0</td>\n",
       "      <td>7.532115</td>\n",
       "      <td>0.810588</td>\n",
       "      <td>5.5</td>\n",
       "      <td>6.99</td>\n",
       "      <td>7.50</td>\n",
       "      <td>8.200</td>\n",
       "      <td>9.0</td>\n",
       "    </tr>\n",
       "    <tr>\n",
       "      <th>temperature</th>\n",
       "      <td>591.0</td>\n",
       "      <td>21.789306</td>\n",
       "      <td>4.536612</td>\n",
       "      <td>4.0</td>\n",
       "      <td>17.94</td>\n",
       "      <td>21.06</td>\n",
       "      <td>24.000</td>\n",
       "      <td>35.0</td>\n",
       "    </tr>\n",
       "    <tr>\n",
       "      <th>turbidity</th>\n",
       "      <td>591.0</td>\n",
       "      <td>4.432944</td>\n",
       "      <td>2.169062</td>\n",
       "      <td>1.0</td>\n",
       "      <td>3.48</td>\n",
       "      <td>3.57</td>\n",
       "      <td>4.005</td>\n",
       "      <td>15.8</td>\n",
       "    </tr>\n",
       "  </tbody>\n",
       "</table>\n",
       "</div>"
      ],
      "text/plain": [
       "             count       mean       std  min    25%    50%     75%   max\n",
       "ph           591.0   7.532115  0.810588  5.5   6.99   7.50   8.200   9.0\n",
       "temperature  591.0  21.789306  4.536612  4.0  17.94  21.06  24.000  35.0\n",
       "turbidity    591.0   4.432944  2.169062  1.0   3.48   3.57   4.005  15.8"
      ]
     },
     "execution_count": 9,
     "metadata": {},
     "output_type": "execute_result"
    }
   ],
   "source": [
    "df.describe().T"
   ]
  },
  {
   "cell_type": "code",
   "execution_count": 14,
   "metadata": {},
   "outputs": [
    {
     "data": {
      "text/plain": [
       "fish\n",
       "tilapia      129\n",
       "rui           99\n",
       "pangas        78\n",
       "katla         58\n",
       "silverCup     55\n",
       "shrimp        50\n",
       "sing          49\n",
       "karpio        33\n",
       "koi           15\n",
       "prawn         14\n",
       "magur         11\n",
       "dtype: int64"
      ]
     },
     "execution_count": 14,
     "metadata": {},
     "output_type": "execute_result"
    }
   ],
   "source": [
    "df.value_counts('fish')"
   ]
  },
  {
   "cell_type": "code",
   "execution_count": 15,
   "metadata": {},
   "outputs": [
    {
     "data": {
      "text/plain": [
       "ph             0\n",
       "temperature    0\n",
       "turbidity      0\n",
       "fish           0\n",
       "dtype: int64"
      ]
     },
     "execution_count": 15,
     "metadata": {},
     "output_type": "execute_result"
    }
   ],
   "source": [
    "df.isnull().sum()"
   ]
  },
  {
   "cell_type": "markdown",
   "metadata": {},
   "source": [
    "# Separating Labels from Features"
   ]
  },
  {
   "cell_type": "code",
   "execution_count": 16,
   "metadata": {},
   "outputs": [
    {
     "name": "stdout",
     "output_type": "stream",
     "text": [
      "Labels:-\n",
      "0    katla\n",
      "1     sing\n",
      "2     sing\n",
      "3    katla\n",
      "4    prawn\n",
      "Name: fish, dtype: object\n",
      "Features:-\n",
      "    ph  temperature  turbidity\n",
      "0  6.0         27.0        4.0\n",
      "1  7.6         28.0        5.9\n",
      "2  7.8         27.0        5.5\n",
      "3  6.5         31.0        5.5\n",
      "4  8.2         27.0        8.5\n",
      "(591, 3)\n"
     ]
    }
   ],
   "source": [
    "init_label= df['fish']\n",
    "init_features = df.drop(\"fish\",axis=1)\n",
    "print(\"Labels:-\")\n",
    "print(init_label.head(5))\n",
    "print(\"Features:-\")\n",
    "print(init_features.head(5))\n",
    "print(init_features.shape)"
   ]
  },
  {
   "cell_type": "markdown",
   "metadata": {},
   "source": [
    "# Data Preprocessing"
   ]
  },
  {
   "cell_type": "code",
   "execution_count": 17,
   "metadata": {},
   "outputs": [
    {
     "name": "stdout",
     "output_type": "stream",
     "text": [
      "          0         1         2\n",
      "0 -1.891730  1.149560 -0.199769\n",
      "1  0.083819  1.370176  0.676928\n",
      "2  0.330762  1.149560  0.492360\n",
      "3 -1.274371  2.032022  0.492360\n",
      "4  0.824650  1.149560  1.876618\n"
     ]
    }
   ],
   "source": [
    "from sklearn.preprocessing import StandardScaler\n",
    "standardized_features = StandardScaler().fit_transform(init_features) # Returns np array\n",
    "standardized_features = pd.DataFrame(standardized_features) #Convert back np array to Panda DataFrame\n",
    "print(standardized_features.head(5))\n"
   ]
  },
  {
   "cell_type": "markdown",
   "metadata": {},
   "source": [
    "# KNN MODEL"
   ]
  },
  {
   "cell_type": "code",
   "execution_count": 18,
   "metadata": {},
   "outputs": [
    {
     "name": "stdout",
     "output_type": "stream",
     "text": [
      "==========================\n",
      "Train Data Shape\n",
      "(472, 3)\n",
      "(472,)\n",
      "===========================\n",
      "Test Data Shape\n",
      "(119, 3)\n",
      "(119,)\n"
     ]
    }
   ],
   "source": [
    "from sklearn.model_selection import train_test_split\n",
    "from sklearn.neighbors import KNeighborsClassifier\n",
    "from sklearn.metrics import accuracy_score\n",
    "from sklearn.model_selection import cross_val_score\n",
    "\n",
    "#We have 2200 Points; \n",
    "#We split it such that we get 20% of the points(440) points in Test Dataset\n",
    "Xtrain0, Xtest, Ytrain0, Ytest= model_selection.train_test_split(init_features, init_label, test_size=0.2, random_state=42)\n",
    "\n",
    "print(\"==========================\")\n",
    "print(\"Train Data Shape\")\n",
    "print(Xtrain0.shape)\n",
    "print(Ytrain0.shape)\n",
    "print(\"===========================\")\n",
    "print(\"Test Data Shape\")\n",
    "print(Xtest.shape)\n",
    "print(Ytest.shape)\n"
   ]
  },
  {
   "cell_type": "code",
   "execution_count": 19,
   "metadata": {},
   "outputs": [
    {
     "name": "stdout",
     "output_type": "stream",
     "text": [
      "\n",
      " Cross Validation Score for k = 1 is \n",
      "0.8094288913773797\n",
      "\n",
      " Cross Validation Score for k = 3 is \n",
      "0.7499888017917133\n",
      "\n",
      " Cross Validation Score for k = 5 is \n",
      "0.6694288913773796\n",
      "\n",
      " Cross Validation Score for k = 7 is \n",
      "0.6481970884658456\n",
      "\n",
      " Cross Validation Score for k = 9 is \n",
      "0.6122060470324747\n",
      "\n",
      " Cross Validation Score for k = 11 is \n",
      "0.5952967525195969\n",
      "\n",
      " Cross Validation Score for k = 13 is \n",
      "0.607973124300112\n",
      "\n",
      " Cross Validation Score for k = 15 is \n",
      "0.5953415453527435\n",
      "\n",
      " Cross Validation Score for k = 17 is \n",
      "0.56996640537514\n",
      "\n",
      " Cross Validation Score for k = 19 is \n",
      "0.5784322508398656\n",
      "\n",
      " Cross Validation Score for k = 21 is \n",
      "0.56996640537514\n",
      "\n",
      " Cross Validation Score for k = 23 is \n",
      "0.5678611422172452\n",
      "\n",
      " Cross Validation Score for k = 25 is \n",
      "0.5488241881298992\n",
      "\n",
      " Cross Validation Score for k = 27 is \n",
      "0.5572228443449048\n",
      "\n",
      " Cross Validation Score for k = 29 is \n",
      "0.5572676371780515\n"
     ]
    }
   ],
   "source": [
    "# We are using Cross Validation for determining right value of K(Hyperparameter )\n",
    "\n",
    "for i in range(1, 30, 2):\n",
    "    knn = KNeighborsClassifier(n_neighbors=i)\n",
    "    score = cross_val_score(knn, Xtrain0.to_numpy(), Ytrain0, cv=5, scoring='accuracy')\n",
    "    print('\\n Cross Validation Score for k = %d is ' % (i))\n",
    "    print(score.mean())\n"
   ]
  },
  {
   "cell_type": "code",
   "execution_count": 20,
   "metadata": {},
   "outputs": [
    {
     "name": "stdout",
     "output_type": "stream",
     "text": [
      "Test Accuracy Score for this Model is= 68.067227%\n",
      "              precision    recall  f1-score   support\n",
      "\n",
      "      karpio       0.75      0.75      0.75         4\n",
      "       katla       0.53      0.62      0.57        13\n",
      "         koi       0.00      0.00      0.00         4\n",
      "       magur       0.50      0.50      0.50         2\n",
      "      pangas       0.62      0.62      0.62        13\n",
      "       prawn       0.00      0.00      0.00         1\n",
      "         rui       0.93      0.82      0.87        17\n",
      "      shrimp       1.00      0.69      0.82        13\n",
      "   silverCup       0.80      0.80      0.80        10\n",
      "        sing       0.35      0.67      0.46         9\n",
      "     tilapia       0.89      0.73      0.80        33\n",
      "\n",
      "    accuracy                           0.68       119\n",
      "   macro avg       0.58      0.56      0.56       119\n",
      "weighted avg       0.74      0.68      0.70       119\n",
      "\n"
     ]
    }
   ],
   "source": [
    "knn = KNeighborsClassifier(n_neighbors=5)\n",
    "knn.fit(Xtrain0.to_numpy(), Ytrain0)\n",
    "pred = knn.predict(Xtest.to_numpy())\n",
    "acc = accuracy_score(Ytest, pred, normalize=True) * float(100)\n",
    "print('Test Accuracy Score for this Model is= %f%%' % (acc))\n",
    "\n",
    "from sklearn.metrics import classification_report\n",
    "print(classification_report(Ytest, pred))"
   ]
  },
  {
   "cell_type": "markdown",
   "metadata": {},
   "source": [
    "# Training on Gaussian Naive Bayes Model"
   ]
  },
  {
   "cell_type": "code",
   "execution_count": 23,
   "metadata": {},
   "outputs": [
    {
     "name": "stdout",
     "output_type": "stream",
     "text": [
      "5-fold CV score for Naive Bayes:,  0.42163493840985444\n",
      "\n",
      "Gaussian Naive Bayes's Accuracy aginst Test Dataset: 0.3949579831932773\n",
      "\n",
      "\n",
      "              precision    recall  f1-score   support\n",
      "\n",
      "      karpio       1.00      1.00      1.00         4\n",
      "       katla       0.50      0.15      0.24        13\n",
      "         koi       0.00      0.00      0.00         4\n",
      "       magur       1.00      1.00      1.00         2\n",
      "      pangas       0.33      0.08      0.12        13\n",
      "       prawn       0.00      0.00      0.00         1\n",
      "         rui       0.24      0.65      0.35        17\n",
      "      shrimp       1.00      0.38      0.56        13\n",
      "   silverCup       0.00      0.00      0.00        10\n",
      "        sing       0.00      0.00      0.00         9\n",
      "     tilapia       0.51      0.67      0.58        33\n",
      "\n",
      "    accuracy                           0.39       119\n",
      "   macro avg       0.42      0.36      0.35       119\n",
      "weighted avg       0.43      0.39      0.36       119\n",
      "\n"
     ]
    },
    {
     "name": "stderr",
     "output_type": "stream",
     "text": [
      "/home/winnie/.local/lib/python3.10/site-packages/sklearn/metrics/_classification.py:1344: UndefinedMetricWarning: Precision and F-score are ill-defined and being set to 0.0 in labels with no predicted samples. Use `zero_division` parameter to control this behavior.\n",
      "  _warn_prf(average, modifier, msg_start, len(result))\n",
      "/home/winnie/.local/lib/python3.10/site-packages/sklearn/metrics/_classification.py:1344: UndefinedMetricWarning: Precision and F-score are ill-defined and being set to 0.0 in labels with no predicted samples. Use `zero_division` parameter to control this behavior.\n",
      "  _warn_prf(average, modifier, msg_start, len(result))\n",
      "/home/winnie/.local/lib/python3.10/site-packages/sklearn/metrics/_classification.py:1344: UndefinedMetricWarning: Precision and F-score are ill-defined and being set to 0.0 in labels with no predicted samples. Use `zero_division` parameter to control this behavior.\n",
      "  _warn_prf(average, modifier, msg_start, len(result))\n"
     ]
    }
   ],
   "source": [
    "from sklearn.naive_bayes import GaussianNB\n",
    "GNBclf = GaussianNB()\n",
    "GNBclf.fit(Xtrain0, Ytrain0)\n",
    "YPred = GNBclf.predict(Xtest)\n",
    "score = cross_val_score(GNBclf, Xtrain0, Ytrain0, cv=5, scoring='accuracy')\n",
    "avgCVScore=score.mean()\n",
    "print(\"5-fold CV score for Naive Bayes:, \", avgCVScore)\n",
    "\n",
    "acc = accuracy_score(Ytest, YPred)\n",
    "print(\"\\nGaussian Naive Bayes's Accuracy aginst Test Dataset:\", acc)\n",
    "\n",
    "from sklearn.metrics import classification_report\n",
    "print(\"\\n\")\n",
    "print(classification_report(Ytest, YPred))"
   ]
  },
  {
   "cell_type": "code",
   "execution_count": null,
   "metadata": {},
   "outputs": [],
   "source": []
  }
 ],
 "metadata": {
  "kernelspec": {
   "display_name": "Python 3",
   "language": "python",
   "name": "python3"
  },
  "language_info": {
   "codemirror_mode": {
    "name": "ipython",
    "version": 3
   },
   "file_extension": ".py",
   "mimetype": "text/x-python",
   "name": "python",
   "nbconvert_exporter": "python",
   "pygments_lexer": "ipython3",
   "version": "3.10.12"
  },
  "orig_nbformat": 4
 },
 "nbformat": 4,
 "nbformat_minor": 2
}
