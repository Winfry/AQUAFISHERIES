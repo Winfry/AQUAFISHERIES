{
 "cells": [
  {
   "cell_type": "code",
   "execution_count": null,
   "metadata": {},
   "outputs": [],
   "source": []
  },
  {
   "cell_type": "markdown",
   "metadata": {},
   "source": []
  },
  {
   "cell_type": "code",
   "execution_count": 21,
   "metadata": {},
   "outputs": [],
   "source": [
    "#Import libraries\n",
    "import numpy as np\n",
    "import pandas as pd\n",
    "import matplotlib.pyplot as plt\n",
    "%matplotlib inline\n",
    "import seaborn as sns\n",
    "from IPython import get_ipython\n",
    "import warnings\n",
    "warnings.filterwarnings(\"ignore\")\n",
    "from sklearn import model_selection\n",
    "\n",
    "\n"
   ]
  },
  {
   "cell_type": "markdown",
   "metadata": {},
   "source": [
    "# Importing Dataset"
   ]
  },
  {
   "cell_type": "code",
   "execution_count": 2,
   "metadata": {},
   "outputs": [
    {
     "name": "stdout",
     "output_type": "stream",
     "text": [
      "    ph  temperature  turbidity   fish\n",
      "0  6.0         27.0        4.0  katla\n",
      "1  7.6         28.0        5.9   sing\n",
      "2  7.8         27.0        5.5   sing\n",
      "3  6.5         31.0        5.5  katla\n",
      "4  8.2         27.0        8.5  prawn\n",
      "Shape of Dataset:  (591, 4)\n"
     ]
    }
   ],
   "source": [
    "df = pd.read_csv('fishdatset.csv')\n",
    "print(df.head(5))\n",
    "print(\"Shape of Dataset: \", df.shape)\n",
    "\n"
   ]
  },
  {
   "cell_type": "code",
   "execution_count": 3,
   "metadata": {},
   "outputs": [
    {
     "name": "stdout",
     "output_type": "stream",
     "text": [
      "<class 'pandas.core.frame.DataFrame'>\n",
      "RangeIndex: 591 entries, 0 to 590\n",
      "Data columns (total 4 columns):\n",
      " #   Column       Non-Null Count  Dtype  \n",
      "---  ------       --------------  -----  \n",
      " 0   ph           591 non-null    float64\n",
      " 1   temperature  591 non-null    float64\n",
      " 2   turbidity    591 non-null    float64\n",
      " 3   fish         591 non-null    object \n",
      "dtypes: float64(3), object(1)\n",
      "memory usage: 18.6+ KB\n"
     ]
    }
   ],
   "source": [
    "df.info()"
   ]
  },
  {
   "cell_type": "code",
   "execution_count": 4,
   "metadata": {},
   "outputs": [
    {
     "data": {
      "text/html": [
       "<div>\n",
       "<style scoped>\n",
       "    .dataframe tbody tr th:only-of-type {\n",
       "        vertical-align: middle;\n",
       "    }\n",
       "\n",
       "    .dataframe tbody tr th {\n",
       "        vertical-align: top;\n",
       "    }\n",
       "\n",
       "    .dataframe thead th {\n",
       "        text-align: right;\n",
       "    }\n",
       "</style>\n",
       "<table border=\"1\" class=\"dataframe\">\n",
       "  <thead>\n",
       "    <tr style=\"text-align: right;\">\n",
       "      <th></th>\n",
       "      <th>count</th>\n",
       "      <th>mean</th>\n",
       "      <th>std</th>\n",
       "      <th>min</th>\n",
       "      <th>25%</th>\n",
       "      <th>50%</th>\n",
       "      <th>75%</th>\n",
       "      <th>max</th>\n",
       "    </tr>\n",
       "  </thead>\n",
       "  <tbody>\n",
       "    <tr>\n",
       "      <th>ph</th>\n",
       "      <td>591.0</td>\n",
       "      <td>7.532115</td>\n",
       "      <td>0.810588</td>\n",
       "      <td>5.5</td>\n",
       "      <td>6.99</td>\n",
       "      <td>7.50</td>\n",
       "      <td>8.200</td>\n",
       "      <td>9.0</td>\n",
       "    </tr>\n",
       "    <tr>\n",
       "      <th>temperature</th>\n",
       "      <td>591.0</td>\n",
       "      <td>21.789306</td>\n",
       "      <td>4.536612</td>\n",
       "      <td>4.0</td>\n",
       "      <td>17.94</td>\n",
       "      <td>21.06</td>\n",
       "      <td>24.000</td>\n",
       "      <td>35.0</td>\n",
       "    </tr>\n",
       "    <tr>\n",
       "      <th>turbidity</th>\n",
       "      <td>591.0</td>\n",
       "      <td>4.432944</td>\n",
       "      <td>2.169062</td>\n",
       "      <td>1.0</td>\n",
       "      <td>3.48</td>\n",
       "      <td>3.57</td>\n",
       "      <td>4.005</td>\n",
       "      <td>15.8</td>\n",
       "    </tr>\n",
       "  </tbody>\n",
       "</table>\n",
       "</div>"
      ],
      "text/plain": [
       "             count       mean       std  min    25%    50%     75%   max\n",
       "ph           591.0   7.532115  0.810588  5.5   6.99   7.50   8.200   9.0\n",
       "temperature  591.0  21.789306  4.536612  4.0  17.94  21.06  24.000  35.0\n",
       "turbidity    591.0   4.432944  2.169062  1.0   3.48   3.57   4.005  15.8"
      ]
     },
     "execution_count": 4,
     "metadata": {},
     "output_type": "execute_result"
    }
   ],
   "source": [
    "df.describe().T"
   ]
  },
  {
   "cell_type": "code",
   "execution_count": 5,
   "metadata": {},
   "outputs": [
    {
     "data": {
      "text/plain": [
       "fish\n",
       "tilapia      129\n",
       "rui           99\n",
       "pangas        78\n",
       "katla         58\n",
       "silverCup     55\n",
       "shrimp        50\n",
       "sing          49\n",
       "karpio        33\n",
       "koi           15\n",
       "prawn         14\n",
       "magur         11\n",
       "dtype: int64"
      ]
     },
     "execution_count": 5,
     "metadata": {},
     "output_type": "execute_result"
    }
   ],
   "source": [
    "df.value_counts('fish')"
   ]
  },
  {
   "cell_type": "code",
   "execution_count": 6,
   "metadata": {},
   "outputs": [
    {
     "data": {
      "text/plain": [
       "ph             0\n",
       "temperature    0\n",
       "turbidity      0\n",
       "fish           0\n",
       "dtype: int64"
      ]
     },
     "execution_count": 6,
     "metadata": {},
     "output_type": "execute_result"
    }
   ],
   "source": [
    "df.isnull().sum()"
   ]
  },
  {
   "cell_type": "code",
   "execution_count": 17,
   "metadata": {},
   "outputs": [
    {
     "data": {
      "text/plain": [
       "ph              91\n",
       "temperature     51\n",
       "turbidity      108\n",
       "fish            11\n",
       "dtype: int64"
      ]
     },
     "execution_count": 17,
     "metadata": {},
     "output_type": "execute_result"
    }
   ],
   "source": [
    "df.nunique()"
   ]
  },
  {
   "cell_type": "code",
   "execution_count": 18,
   "metadata": {},
   "outputs": [
    {
     "data": {
      "text/plain": [
       "array(['katla', 'sing', 'prawn', 'rui', 'koi', 'pangas', 'tilapia',\n",
       "       'silverCup', 'karpio', 'magur', 'shrimp'], dtype=object)"
      ]
     },
     "execution_count": 18,
     "metadata": {},
     "output_type": "execute_result"
    }
   ],
   "source": [
    "df['fish'].unique()"
   ]
  },
  {
   "cell_type": "code",
   "execution_count": 19,
   "metadata": {},
   "outputs": [
    {
     "data": {
      "text/plain": [
       "tilapia      129\n",
       "rui           99\n",
       "pangas        78\n",
       "katla         58\n",
       "silverCup     55\n",
       "shrimp        50\n",
       "sing          49\n",
       "karpio        33\n",
       "koi           15\n",
       "prawn         14\n",
       "magur         11\n",
       "Name: fish, dtype: int64"
      ]
     },
     "execution_count": 19,
     "metadata": {},
     "output_type": "execute_result"
    }
   ],
   "source": [
    "df['fish'].value_counts()"
   ]
  },
  {
   "cell_type": "code",
   "execution_count": 20,
   "metadata": {},
   "outputs": [
    {
     "data": {
      "text/html": [
       "<div>\n",
       "<style scoped>\n",
       "    .dataframe tbody tr th:only-of-type {\n",
       "        vertical-align: middle;\n",
       "    }\n",
       "\n",
       "    .dataframe tbody tr th {\n",
       "        vertical-align: top;\n",
       "    }\n",
       "\n",
       "    .dataframe thead th {\n",
       "        text-align: right;\n",
       "    }\n",
       "</style>\n",
       "<table border=\"1\" class=\"dataframe\">\n",
       "  <thead>\n",
       "    <tr style=\"text-align: right;\">\n",
       "      <th></th>\n",
       "      <th>ph</th>\n",
       "      <th>temperature</th>\n",
       "      <th>turbidity</th>\n",
       "    </tr>\n",
       "    <tr>\n",
       "      <th>fish</th>\n",
       "      <th></th>\n",
       "      <th></th>\n",
       "      <th></th>\n",
       "    </tr>\n",
       "  </thead>\n",
       "  <tbody>\n",
       "    <tr>\n",
       "      <th>karpio</th>\n",
       "      <td>7.236364</td>\n",
       "      <td>19.363636</td>\n",
       "      <td>7.684848</td>\n",
       "    </tr>\n",
       "    <tr>\n",
       "      <th>katla</th>\n",
       "      <td>7.717241</td>\n",
       "      <td>23.102759</td>\n",
       "      <td>3.736034</td>\n",
       "    </tr>\n",
       "    <tr>\n",
       "      <th>koi</th>\n",
       "      <td>6.673333</td>\n",
       "      <td>26.000000</td>\n",
       "      <td>4.618667</td>\n",
       "    </tr>\n",
       "    <tr>\n",
       "      <th>magur</th>\n",
       "      <td>7.236364</td>\n",
       "      <td>25.181818</td>\n",
       "      <td>7.709091</td>\n",
       "    </tr>\n",
       "    <tr>\n",
       "      <th>pangas</th>\n",
       "      <td>8.478462</td>\n",
       "      <td>20.987179</td>\n",
       "      <td>3.642051</td>\n",
       "    </tr>\n",
       "    <tr>\n",
       "      <th>prawn</th>\n",
       "      <td>7.892857</td>\n",
       "      <td>28.928571</td>\n",
       "      <td>6.315000</td>\n",
       "    </tr>\n",
       "    <tr>\n",
       "      <th>rui</th>\n",
       "      <td>7.062020</td>\n",
       "      <td>22.430707</td>\n",
       "      <td>3.749495</td>\n",
       "    </tr>\n",
       "    <tr>\n",
       "      <th>shrimp</th>\n",
       "      <td>7.154400</td>\n",
       "      <td>22.140000</td>\n",
       "      <td>6.833800</td>\n",
       "    </tr>\n",
       "    <tr>\n",
       "      <th>silverCup</th>\n",
       "      <td>6.832364</td>\n",
       "      <td>22.186909</td>\n",
       "      <td>3.876000</td>\n",
       "    </tr>\n",
       "    <tr>\n",
       "      <th>sing</th>\n",
       "      <td>7.329796</td>\n",
       "      <td>23.713469</td>\n",
       "      <td>4.575510</td>\n",
       "    </tr>\n",
       "    <tr>\n",
       "      <th>tilapia</th>\n",
       "      <td>7.920620</td>\n",
       "      <td>19.222016</td>\n",
       "      <td>3.664651</td>\n",
       "    </tr>\n",
       "  </tbody>\n",
       "</table>\n",
       "</div>"
      ],
      "text/plain": [
       "                 ph  temperature  turbidity\n",
       "fish                                       \n",
       "karpio     7.236364    19.363636   7.684848\n",
       "katla      7.717241    23.102759   3.736034\n",
       "koi        6.673333    26.000000   4.618667\n",
       "magur      7.236364    25.181818   7.709091\n",
       "pangas     8.478462    20.987179   3.642051\n",
       "prawn      7.892857    28.928571   6.315000\n",
       "rui        7.062020    22.430707   3.749495\n",
       "shrimp     7.154400    22.140000   6.833800\n",
       "silverCup  6.832364    22.186909   3.876000\n",
       "sing       7.329796    23.713469   4.575510\n",
       "tilapia    7.920620    19.222016   3.664651"
      ]
     },
     "execution_count": 20,
     "metadata": {},
     "output_type": "execute_result"
    }
   ],
   "source": [
    "fish_summary = pd.pivot_table(df, index=['fish'], aggfunc='mean')\n",
    "fish_summary"
   ]
  },
  {
   "cell_type": "markdown",
   "metadata": {},
   "source": [
    "# VIZUALISATION"
   ]
  },
  {
   "cell_type": "code",
   "execution_count": 23,
   "metadata": {},
   "outputs": [
    {
     "data": {
      "image/png": "[encoded data removed]",
      "text/plain": [
       "<Figure size 1500x600 with 1 Axes>"
      ]
     },
     "metadata": {},
     "output_type": "display_data"
    }
   ],
   "source": [
    "fish_summary_new = fish_summary.reset_index()\n",
    "fish_summary_new\n",
    "\n",
    "\n",
    "plt.figure(figsize=(15,6))\n",
    "sns.barplot(y = 'ph', x = 'fish', data=fish_summary_new, palette = 'hls')\n",
    "plt.xticks(rotation = 90)\n",
    "plt.show()\n"
   ]
  },
  {
   "cell_type": "markdown",
   "metadata": {},
   "source": [
    "# Separating Labels from Features"
   ]
  },
  {
   "cell_type": "code",
   "execution_count": 7,
   "metadata": {},
   "outputs": [
    {
     "name": "stdout",
     "output_type": "stream",
     "text": [
      "Labels:-\n",
      "0    katla\n",
      "1     sing\n",
      "2     sing\n",
      "3    katla\n",
      "4    prawn\n",
      "Name: fish, dtype: object\n",
      "Features:-\n",
      "    ph  temperature  turbidity\n",
      "0  6.0         27.0        4.0\n",
      "1  7.6         28.0        5.9\n",
      "2  7.8         27.0        5.5\n",
      "3  6.5         31.0        5.5\n",
      "4  8.2         27.0        8.5\n",
      "(591, 3)\n"
     ]
    }
   ],
   "source": [
    "init_label= df['fish']\n",
    "init_features = df.drop(\"fish\",axis=1)\n",
    "print(\"Labels:-\")\n",
    "print(init_label.head(5))\n",
    "print(\"Features:-\")\n",
    "print(init_features.head(5))\n",
    "print(init_features.shape)"
   ]
  },
  {
   "cell_type": "markdown",
   "metadata": {},
   "source": [
    "# Data Preprocessing"
   ]
  },
  {
   "cell_type": "code",
   "execution_count": 8,
   "metadata": {},
   "outputs": [
    {
     "name": "stdout",
     "output_type": "stream",
     "text": [
      "          0         1         2\n",
      "0 -1.891730  1.149560 -0.199769\n",
      "1  0.083819  1.370176  0.676928\n",
      "2  0.330762  1.149560  0.492360\n",
      "3 -1.274371  2.032022  0.492360\n",
      "4  0.824650  1.149560  1.876618\n"
     ]
    }
   ],
   "source": [
    "from sklearn.preprocessing import StandardScaler\n",
    "standardized_features = StandardScaler().fit_transform(init_features)\n",
    "standardized_features = pd.DataFrame(standardized_features) \n",
    "print(standardized_features.head(5))\n"
   ]
  },
  {
   "cell_type": "markdown",
   "metadata": {},
   "source": [
    "# KNN MODEL"
   ]
  },
  {
   "cell_type": "code",
   "execution_count": 9,
   "metadata": {},
   "outputs": [
    {
     "name": "stdout",
     "output_type": "stream",
     "text": [
      "==========================\n",
      "Train Data Shape\n",
      "(472, 3)\n",
      "(472,)\n",
      "===========================\n",
      "Test Data Shape\n",
      "(119, 3)\n",
      "(119,)\n"
     ]
    }
   ],
   "source": [
    "from sklearn.model_selection import train_test_split\n",
    "from sklearn.neighbors import KNeighborsClassifier\n",
    "from sklearn.metrics import accuracy_score\n",
    "from sklearn.model_selection import cross_val_score\n",
    "\n",
    "#We have 2200 Points; \n",
    "#We split it such that we get 20% of the points(440) points in Test Dataset\n",
    "Xtrain0, Xtest, Ytrain0, Ytest= model_selection.train_test_split(init_features, init_label, test_size=0.2, random_state=42)\n",
    "\n",
    "print(\"==========================\")\n",
    "print(\"Train Data Shape\")\n",
    "print(Xtrain0.shape)\n",
    "print(Ytrain0.shape)\n",
    "print(\"===========================\")\n",
    "print(\"Test Data Shape\")\n",
    "print(Xtest.shape)\n",
    "print(Ytest.shape)\n"
   ]
  },
  {
   "cell_type": "code",
   "execution_count": 10,
   "metadata": {},
   "outputs": [
    {
     "name": "stdout",
     "output_type": "stream",
     "text": [
      "\n",
      " Cross Validation Score for k = 1 is \n",
      "0.8094288913773797\n",
      "\n",
      " Cross Validation Score for k = 3 is \n",
      "0.7499888017917133\n",
      "\n",
      " Cross Validation Score for k = 5 is \n",
      "0.6694288913773796\n",
      "\n",
      " Cross Validation Score for k = 7 is \n",
      "0.6481970884658456\n",
      "\n",
      " Cross Validation Score for k = 9 is \n",
      "0.6122060470324747\n",
      "\n",
      " Cross Validation Score for k = 11 is \n",
      "0.5952967525195969\n",
      "\n",
      " Cross Validation Score for k = 13 is \n",
      "0.607973124300112\n",
      "\n",
      " Cross Validation Score for k = 15 is \n",
      "0.5953415453527435\n",
      "\n",
      " Cross Validation Score for k = 17 is \n",
      "0.56996640537514\n",
      "\n",
      " Cross Validation Score for k = 19 is \n",
      "0.5784322508398656\n",
      "\n",
      " Cross Validation Score for k = 21 is \n",
      "0.56996640537514\n",
      "\n",
      " Cross Validation Score for k = 23 is \n",
      "0.5678611422172452\n",
      "\n",
      " Cross Validation Score for k = 25 is \n",
      "0.5488241881298992\n",
      "\n",
      " Cross Validation Score for k = 27 is \n",
      "0.5572228443449048\n",
      "\n",
      " Cross Validation Score for k = 29 is \n",
      "0.5572676371780515\n"
     ]
    }
   ],
   "source": [
    "# We are using Cross Validation for determining right value of K(Hyperparameter )\n",
    "\n",
    "for i in range(1, 30, 2):\n",
    "    knn = KNeighborsClassifier(n_neighbors=i)\n",
    "    score = cross_val_score(knn, Xtrain0.to_numpy(), Ytrain0, cv=5, scoring='accuracy')\n",
    "    print('\\n Cross Validation Score for k = %d is ' % (i))\n",
    "    print(score.mean())\n"
   ]
  },
  {
   "cell_type": "code",
   "execution_count": 11,
   "metadata": {},
   "outputs": [
    {
     "name": "stdout",
     "output_type": "stream",
     "text": [
      "Test Accuracy Score for this Model is= 68.067227%\n",
      "              precision    recall  f1-score   support\n",
      "\n",
      "      karpio       0.75      0.75      0.75         4\n",
      "       katla       0.53      0.62      0.57        13\n",
      "         koi       0.00      0.00      0.00         4\n",
      "       magur       0.50      0.50      0.50         2\n",
      "      pangas       0.62      0.62      0.62        13\n",
      "       prawn       0.00      0.00      0.00         1\n",
      "         rui       0.93      0.82      0.87        17\n",
      "      shrimp       1.00      0.69      0.82        13\n",
      "   silverCup       0.80      0.80      0.80        10\n",
      "        sing       0.35      0.67      0.46         9\n",
      "     tilapia       0.89      0.73      0.80        33\n",
      "\n",
      "    accuracy                           0.68       119\n",
      "   macro avg       0.58      0.56      0.56       119\n",
      "weighted avg       0.74      0.68      0.70       119\n",
      "\n"
     ]
    }
   ],
   "source": [
    "knn = KNeighborsClassifier(n_neighbors=5)\n",
    "knn.fit(Xtrain0.to_numpy(), Ytrain0)\n",
    "pred = knn.predict(Xtest.to_numpy())\n",
    "acc = accuracy_score(Ytest, pred, normalize=True) * float(100)\n",
    "print('Test Accuracy Score for this Model is= %f%%' % (acc))\n",
    "\n",
    "from sklearn.metrics import classification_report\n",
    "print(classification_report(Ytest, pred))"
   ]
  },
  {
   "cell_type": "markdown",
   "metadata": {},
   "source": [
    "# Training on Gaussian Naive Bayes Model"
   ]
  },
  {
   "cell_type": "code",
   "execution_count": 12,
   "metadata": {},
   "outputs": [
    {
     "name": "stdout",
     "output_type": "stream",
     "text": [
      "5-fold CV score for Naive Bayes:,  0.42163493840985444\n",
      "\n",
      "Gaussian Naive Bayes's Accuracy aginst Test Dataset: 0.3949579831932773\n",
      "\n",
      "\n",
      "              precision    recall  f1-score   support\n",
      "\n",
      "      karpio       1.00      1.00      1.00         4\n",
      "       katla       0.50      0.15      0.24        13\n",
      "         koi       0.00      0.00      0.00         4\n",
      "       magur       1.00      1.00      1.00         2\n",
      "      pangas       0.33      0.08      0.12        13\n",
      "       prawn       0.00      0.00      0.00         1\n",
      "         rui       0.24      0.65      0.35        17\n",
      "      shrimp       1.00      0.38      0.56        13\n",
      "   silverCup       0.00      0.00      0.00        10\n",
      "        sing       0.00      0.00      0.00         9\n",
      "     tilapia       0.51      0.67      0.58        33\n",
      "\n",
      "    accuracy                           0.39       119\n",
      "   macro avg       0.42      0.36      0.35       119\n",
      "weighted avg       0.43      0.39      0.36       119\n",
      "\n"
     ]
    },
    {
     "name": "stderr",
     "output_type": "stream",
     "text": [
      "/home/winnie/.local/lib/python3.10/site-packages/sklearn/metrics/_classification.py:1344: UndefinedMetricWarning: Precision and F-score are ill-defined and being set to 0.0 in labels with no predicted samples. Use `zero_division` parameter to control this behavior.\n",
      "  _warn_prf(average, modifier, msg_start, len(result))\n",
      "/home/winnie/.local/lib/python3.10/site-packages/sklearn/metrics/_classification.py:1344: UndefinedMetricWarning: Precision and F-score are ill-defined and being set to 0.0 in labels with no predicted samples. Use `zero_division` parameter to control this behavior.\n",
      "  _warn_prf(average, modifier, msg_start, len(result))\n",
      "/home/winnie/.local/lib/python3.10/site-packages/sklearn/metrics/_classification.py:1344: UndefinedMetricWarning: Precision and F-score are ill-defined and being set to 0.0 in labels with no predicted samples. Use `zero_division` parameter to control this behavior.\n",
      "  _warn_prf(average, modifier, msg_start, len(result))\n"
     ]
    }
   ],
   "source": [
    "from sklearn.naive_bayes import GaussianNB\n",
    "GNBclf = GaussianNB()\n",
    "GNBclf.fit(Xtrain0, Ytrain0)\n",
    "YPred = GNBclf.predict(Xtest)\n",
    "score = cross_val_score(GNBclf, Xtrain0, Ytrain0, cv=5, scoring='accuracy')\n",
    "avgCVScore=score.mean()\n",
    "print(\"5-fold CV score for Naive Bayes:, \", avgCVScore)\n",
    "\n",
    "acc = accuracy_score(Ytest, YPred)\n",
    "print(\"\\nGaussian Naive Bayes's Accuracy aginst Test Dataset:\", acc)\n",
    "\n",
    "from sklearn.metrics import classification_report\n",
    "print(\"\\n\")\n",
    "print(classification_report(Ytest, YPred))"
   ]
  },
  {
   "cell_type": "markdown",
   "metadata": {},
   "source": [
    "# Saving our model on pickle file"
   ]
  },
  {
   "cell_type": "code",
   "execution_count": 13,
   "metadata": {},
   "outputs": [
    {
     "data": {
      "text/plain": [
       "['GNBClassifier.pkl']"
      ]
     },
     "execution_count": 13,
     "metadata": {},
     "output_type": "execute_result"
    }
   ],
   "source": [
    "clf=GaussianNB()\n",
    "clf.fit(init_features, init_label)\n",
    "import pickle\n",
    "from joblib import dump, load\n",
    "dump(clf, 'GNBClassifier.pkl')\n",
    "\n"
   ]
  },
  {
   "cell_type": "code",
   "execution_count": 14,
   "metadata": {},
   "outputs": [],
   "source": [
    "# Mostly XGBoost models use data that must be encoded before training it whereby thr categorical transformers like labelencoders are used to change categorical daya to numerical data.\n",
    "#Therefore:\n",
    "from sklearn.preprocessing import LabelEncoder\n",
    "le = LabelEncoder()\n",
    "Y_train0 = le.fit_transform(Ytrain0)\n",
    "\n"
   ]
  },
  {
   "cell_type": "code",
   "execution_count": 15,
   "metadata": {},
   "outputs": [],
   "source": [
    "def recommendation(turbidity,temperature,ph):\n",
    "    features = np.array([[turbidity,temperature,ph]])\n",
    "    transformed_features = clf.fit_transform(Xtrain0)\n",
    "    transformed_features = clf.fit_transform(transformed_features)\n",
    "    prediction = clf.predict(transformed_features).reshape(1,-1)\n",
    "    \n",
    "    return prediction[0] "
   ]
  },
  {
   "cell_type": "code",
   "execution_count": 16,
   "metadata": {},
   "outputs": [
    {
     "ename": "AttributeError",
     "evalue": "'GaussianNB' object has no attribute 'fit_transform'",
     "output_type": "error",
     "traceback": [
      "\u001b[0;31m---------------------------------------------------------------------------\u001b[0m",
      "\u001b[0;31mAttributeError\u001b[0m                            Traceback (most recent call last)",
      "\u001b[1;32m/home/winnie/AQUAFISHERIES/aqua.ipynb Cell 24\u001b[0m line \u001b[0;36m6\n\u001b[1;32m      <a href='vscode-notebook-cell:/home/winnie/AQUAFISHERIES/aqua.ipynb#X32sZmlsZQ%3D%3D?line=1'>2</a>\u001b[0m turbidity \u001b[39m=\u001b[39m \u001b[39m5.1\u001b[39m\n\u001b[1;32m      <a href='vscode-notebook-cell:/home/winnie/AQUAFISHERIES/aqua.ipynb#X32sZmlsZQ%3D%3D?line=2'>3</a>\u001b[0m ph \u001b[39m=\u001b[39m \u001b[39m5\u001b[39m \n\u001b[0;32m----> <a href='vscode-notebook-cell:/home/winnie/AQUAFISHERIES/aqua.ipynb#X32sZmlsZQ%3D%3D?line=5'>6</a>\u001b[0m predict \u001b[39m=\u001b[39m recommendation(temperature,turbidity,ph)\n\u001b[1;32m      <a href='vscode-notebook-cell:/home/winnie/AQUAFISHERIES/aqua.ipynb#X32sZmlsZQ%3D%3D?line=8'>9</a>\u001b[0m fish_dict \u001b[39m=\u001b[39m {\u001b[39m1\u001b[39m: \u001b[39m\"\u001b[39m\u001b[39mtilapia\u001b[39m\u001b[39m\"\u001b[39m , \u001b[39m2\u001b[39m:\u001b[39m\"\u001b[39m\u001b[39mrui\u001b[39m\u001b[39m\"\u001b[39m, \u001b[39m3\u001b[39m:\u001b[39m\"\u001b[39m\u001b[39mpangas\u001b[39m\u001b[39m\"\u001b[39m, \u001b[39m4\u001b[39m:\u001b[39m\"\u001b[39m\u001b[39mkatla\u001b[39m\u001b[39m\"\u001b[39m, \u001b[39m5\u001b[39m:\u001b[39m\"\u001b[39m\u001b[39msilverCup\u001b[39m\u001b[39m\"\u001b[39m, \u001b[39m6\u001b[39m:\u001b[39m\"\u001b[39m\u001b[39mshrimp\u001b[39m\u001b[39m\"\u001b[39m, \u001b[39m7\u001b[39m:\u001b[39m\"\u001b[39m\u001b[39msing\u001b[39m\u001b[39m\"\u001b[39m, \u001b[39m8\u001b[39m:\u001b[39m\"\u001b[39m\u001b[39mkarpio\u001b[39m\u001b[39m\"\u001b[39m , \u001b[39m9\u001b[39m:\u001b[39m\"\u001b[39m\u001b[39mkoi\u001b[39m\u001b[39m\"\u001b[39m, \u001b[39m10\u001b[39m:\u001b[39m\"\u001b[39m\u001b[39mprawn\u001b[39m\u001b[39m\"\u001b[39m ,\u001b[39m11\u001b[39m:\u001b[39m\"\u001b[39m\u001b[39mmagur\u001b[39m\u001b[39m\"\u001b[39m }\n\u001b[1;32m     <a href='vscode-notebook-cell:/home/winnie/AQUAFISHERIES/aqua.ipynb#X32sZmlsZQ%3D%3D?line=10'>11</a>\u001b[0m \u001b[39mif\u001b[39;00m predict[\u001b[39m0\u001b[39m] \u001b[39min\u001b[39;00m fish_dict:\n",
      "\u001b[1;32m/home/winnie/AQUAFISHERIES/aqua.ipynb Cell 24\u001b[0m line \u001b[0;36m3\n\u001b[1;32m      <a href='vscode-notebook-cell:/home/winnie/AQUAFISHERIES/aqua.ipynb#X32sZmlsZQ%3D%3D?line=0'>1</a>\u001b[0m \u001b[39mdef\u001b[39;00m \u001b[39mrecommendation\u001b[39m(turbidity,temperature,ph):\n\u001b[1;32m      <a href='vscode-notebook-cell:/home/winnie/AQUAFISHERIES/aqua.ipynb#X32sZmlsZQ%3D%3D?line=1'>2</a>\u001b[0m     features \u001b[39m=\u001b[39m np\u001b[39m.\u001b[39marray([[turbidity,temperature,ph]])\n\u001b[0;32m----> <a href='vscode-notebook-cell:/home/winnie/AQUAFISHERIES/aqua.ipynb#X32sZmlsZQ%3D%3D?line=2'>3</a>\u001b[0m     transformed_features \u001b[39m=\u001b[39m clf\u001b[39m.\u001b[39;49mfit_transform(Xtrain0)\n\u001b[1;32m      <a href='vscode-notebook-cell:/home/winnie/AQUAFISHERIES/aqua.ipynb#X32sZmlsZQ%3D%3D?line=3'>4</a>\u001b[0m     transformed_features \u001b[39m=\u001b[39m clf\u001b[39m.\u001b[39mfit_transform(transformed_features)\n\u001b[1;32m      <a href='vscode-notebook-cell:/home/winnie/AQUAFISHERIES/aqua.ipynb#X32sZmlsZQ%3D%3D?line=4'>5</a>\u001b[0m     prediction \u001b[39m=\u001b[39m clf\u001b[39m.\u001b[39mpredict(transformed_features)\u001b[39m.\u001b[39mreshape(\u001b[39m1\u001b[39m,\u001b[39m-\u001b[39m\u001b[39m1\u001b[39m)\n",
      "\u001b[0;31mAttributeError\u001b[0m: 'GaussianNB' object has no attribute 'fit_transform'"
     ]
    }
   ],
   "source": [
    "\n",
    "\n",
    "temperature = 27\n",
    "turbidity = 5.1\n",
    "ph = 5 \n",
    "\n",
    "\n",
    "predict = recommendation(temperature,turbidity,ph)\n",
    "\n",
    "\n",
    "fish_dict = {1: \"tilapia\" , 2:\"rui\", 3:\"pangas\", 4:\"katla\", 5:\"silverCup\", 6:\"shrimp\", 7:\"sing\", 8:\"karpio\" , 9:\"koi\", 10:\"prawn\" ,11:\"magur\" }\n",
    "\n",
    "if predict[0] in fish_dict:\n",
    "    fish = fish_dict[predict[0]]\n",
    "    print(\"{} is a best fish to be cultivated \".format(fish))\n",
    "else:\n",
    "    print(\"Sorry are not able to recommend a proper fish for this environment\")\n"
   ]
  },
  {
   "cell_type": "code",
   "execution_count": null,
   "metadata": {},
   "outputs": [],
   "source": []
  }
 ],
 "metadata": {
  "kernelspec": {
   "display_name": "Python 3",
   "language": "python",
   "name": "python3"
  },
  "language_info": {
   "codemirror_mode": {
    "name": "ipython",
    "version": 3
   },
   "file_extension": ".py",
   "mimetype": "text/x-python",
   "name": "python",
   "nbconvert_exporter": "python",
   "pygments_lexer": "ipython3",
   "version": "3.10.12"
  },
  "orig_nbformat": 4
 },
 "nbformat": 4,
 "nbformat_minor": 2
}
